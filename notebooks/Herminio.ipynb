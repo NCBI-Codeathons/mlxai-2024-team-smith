{
 "cells": [
  {
   "cell_type": "markdown",
   "id": "8a152137-769d-4b29-9d88-105e18589047",
   "metadata": {},
   "source": [
    "# Libraries"
   ]
  },
  {
   "cell_type": "markdown",
   "id": "6e266b2e-455d-416d-bf12-41ef74f8bc1e",
   "metadata": {},
   "source": [
    "$ f(x) = y $"
   ]
  },
  {
   "cell_type": "code",
   "execution_count": null,
   "id": "ac5e7c6e-9b50-4f1b-a583-47efb307be6f",
   "metadata": {},
   "outputs": [],
   "source": []
  },
  {
   "cell_type": "code",
   "execution_count": null,
   "id": "827af1a2-1d09-42e1-854c-6f6a4a270cbb",
   "metadata": {},
   "outputs": [],
   "source": []
  },
  {
   "cell_type": "markdown",
   "id": "e94c958e-16f4-4c0b-b0d3-954a5bd5c35f",
   "metadata": {},
   "source": [
    "# Data"
   ]
  },
  {
   "cell_type": "markdown",
   "id": "c01655f8-d8f7-43d5-9c8e-a8893759ecad",
   "metadata": {},
   "source": [
    "# EDA"
   ]
  },
  {
   "cell_type": "markdown",
   "id": "7935641c-6ed7-4151-baa7-eb8e0eea6dbb",
   "metadata": {},
   "source": [
    "# Transformations"
   ]
  },
  {
   "cell_type": "markdown",
   "id": "c94440c5-0eca-43fd-96e9-e74efc5cf8bd",
   "metadata": {},
   "source": [
    "# Models"
   ]
  },
  {
   "cell_type": "code",
   "execution_count": null,
   "id": "4235a81e-dc2e-4348-b7ba-8706d8cb39a2",
   "metadata": {},
   "outputs": [],
   "source": []
  }
 ],
 "metadata": {
  "kernelspec": {
   "display_name": "Python 3 (ipykernel)",
   "language": "python",
   "name": "python3"
  },
  "language_info": {
   "codemirror_mode": {
    "name": "ipython",
    "version": 3
   },
   "file_extension": ".py",
   "mimetype": "text/x-python",
   "name": "python",
   "nbconvert_exporter": "python",
   "pygments_lexer": "ipython3",
   "version": "3.11.8"
  }
 },
 "nbformat": 4,
 "nbformat_minor": 5
}
