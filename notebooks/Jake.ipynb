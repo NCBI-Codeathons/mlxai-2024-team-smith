{
 "cells": [
  {
   "cell_type": "markdown",
   "id": "68097b6d-8a67-4176-be8d-b91e75423823",
   "metadata": {},
   "source": [
    "# Libraries"
   ]
  },
  {
   "cell_type": "code",
   "execution_count": 96,
   "id": "7b947e20-7282-4367-b0b6-161b01e3d8bd",
   "metadata": {},
   "outputs": [],
   "source": [
    "import json\n",
    "import pandas as pd\n",
    "import os"
   ]
  },
  {
   "cell_type": "markdown",
   "id": "0fb22120-00c1-48d2-8a41-e500a1eaf007",
   "metadata": {},
   "source": [
    "# Data"
   ]
  },
  {
   "cell_type": "code",
   "execution_count": 105,
   "id": "009ca12f-19ec-41f9-a974-7280124dc284",
   "metadata": {},
   "outputs": [],
   "source": [
    "data_path = 'data/ir_2024-02-28_1439_65df45a1b4f11'\n",
    "tsv_file = data_path + '/vdjserver.tsv'"
   ]
  },
  {
   "cell_type": "markdown",
   "id": "df30ff1a-55cd-4410-8e76-8245c01e21a2",
   "metadata": {},
   "source": [
    "First I want to know what this data looks like. What are the labels, how big is the file, etc."
   ]
  },
  {
   "cell_type": "code",
   "execution_count": 109,
   "id": "34bfc8a9-a3c6-492b-92dd-ed199f220799",
   "metadata": {},
   "outputs": [
    {
     "name": "stdout",
     "output_type": "stream",
     "text": [
      "['sequence_id', 'sequence', 'quality', 'sequence_aa', 'rev_comp', 'productive', 'vj_in_frame', 'stop_codon', 'complete_vdj', 'locus', 'v_call', 'd_call', 'd2_call', 'j_call', 'c_call', 'sequence_alignment', 'quality_alignment', 'sequence_alignment_aa', 'germline_alignment', 'germline_alignment_aa', 'junction', 'junction_aa', 'np1', 'np1_aa', 'np2', 'np2_aa', 'np3', 'np3_aa', 'cdr1', 'cdr1_aa', 'cdr2', 'cdr2_aa', 'cdr3', 'cdr3_aa', 'fwr1', 'fwr1_aa', 'fwr2', 'fwr2_aa', 'fwr3', 'fwr3_aa', 'fwr4', 'fwr4_aa', 'v_score', 'v_identity', 'v_support', 'v_cigar', 'd_score', 'd_identity', 'd_support', 'd_cigar', 'd2_score', 'd2_identity', 'd2_support', 'd2_cigar', 'j_score', 'j_identity', 'j_support', 'j_cigar', 'c_score', 'c_identity', 'c_support', 'c_cigar', 'v_sequence_start', 'v_sequence_end', 'v_germline_start', 'v_germline_end', 'v_alignment_start', 'v_alignment_end', 'd_sequence_start', 'd_sequence_end', 'd_germline_start', 'd_germline_end', 'd_alignment_start', 'd_alignment_end', 'd2_sequence_start', 'd2_sequence_end', 'd2_germline_start', 'd2_germline_end', 'd2_alignment_start', 'd2_alignment_end', 'j_sequence_start', 'j_sequence_end', 'j_germline_start', 'j_germline_end', 'j_alignment_start', 'j_alignment_end', 'c_sequence_start', 'c_sequence_end', 'c_germline_start', 'c_germline_end', 'c_alignment_start', 'c_alignment_end', 'cdr1_start', 'cdr1_end', 'cdr2_start', 'cdr2_end', 'cdr3_start', 'cdr3_end', 'fwr1_start', 'fwr1_end', 'fwr2_start', 'fwr2_end', 'fwr3_start', 'fwr3_end', 'fwr4_start', 'fwr4_end', 'v_sequence_alignment', 'v_sequence_alignment_aa', 'd_sequence_alignment', 'd_sequence_alignment_aa', 'd2_sequence_alignment', 'd2_sequence_alignment_aa', 'j_sequence_alignment', 'j_sequence_alignment_aa', 'c_sequence_alignment', 'c_sequence_alignment_aa', 'v_germline_alignment', 'v_germline_alignment_aa', 'd_germline_alignment', 'd_germline_alignment_aa', 'd2_germline_alignment', 'd2_germline_alignment_aa', 'j_germline_alignment', 'j_germline_alignment_aa', 'c_germline_alignment', 'c_germline_alignment_aa', 'junction_length', 'junction_aa_length', 'np1_length', 'np2_length', 'np3_length', 'n1_length', 'n2_length', 'n3_length', 'p3v_length', 'p5d_length', 'p3d_length', 'p5d2_length', 'p3d2_length', 'p5j_length', 'v_frameshift', 'j_frameshift', 'd_frame', 'd2_frame', 'consensus_count', 'duplicate_count', 'umi_count', 'cell_id', 'clone_id', 'repertoire_id', 'sample_processing_id', 'data_processing_id']\n"
     ]
    }
   ],
   "source": [
    "# Examine column titles:\n",
    "with open(tsv_file, 'r') as file:\n",
    "    # Read the first line of the TSV file\n",
    "    first_line = file.readline()\n",
    "\n",
    "column_titles = first_line.strip().split('\\t')\n",
    "\n",
    "print(column_titles) \n",
    "\n"
   ]
  },
  {
   "cell_type": "markdown",
   "id": "c10f16f4-fbd0-46cd-8292-7a77d0a3d21d",
   "metadata": {},
   "source": [
    "I'll start by investigating the np1 column, which represents one of the four immunized mice. They're denoted NP1, NP2, NP3, NP4 in the paper. The two control mice are denoted C1, C2.  "
   ]
  },
  {
   "cell_type": "code",
   "execution_count": 114,
   "id": "4c48cc44-3f18-4f12-b3ee-7acaefac0004",
   "metadata": {},
   "outputs": [
    {
     "name": "stdout",
     "output_type": "stream",
     "text": [
      "0\n"
     ]
    }
   ],
   "source": [
    "\n",
    "\n",
    "# how big is this column\n",
    "column_size = len(df['np1'])\n",
    "\n",
    "# # what do the first 50 rows look like?\n",
    "# read_csv(tsv_file, sep='\\t', nrows=50, usecols=['np1'])\n",
    "\n",
    "\n",
    "\n",
    "# num_non_nan_entries = tsv_df_head['np1'].notna().sum()\n",
    "\n",
    "# print(num_non_nan_entries)\n",
    "\n"
   ]
  },
  {
   "cell_type": "code",
   "execution_count": null,
   "id": "e3a5c71e-b649-49e0-8058-bdc130559cc0",
   "metadata": {},
   "outputs": [],
   "source": []
  },
  {
   "cell_type": "code",
   "execution_count": null,
   "id": "ad93a360-67ca-4a91-9742-180cd5ca92f8",
   "metadata": {},
   "outputs": [],
   "source": []
  }
 ],
 "metadata": {
  "kernelspec": {
   "display_name": "Python 3 (ipykernel)",
   "language": "python",
   "name": "python3"
  },
  "language_info": {
   "codemirror_mode": {
    "name": "ipython",
    "version": 3
   },
   "file_extension": ".py",
   "mimetype": "text/x-python",
   "name": "python",
   "nbconvert_exporter": "python",
   "pygments_lexer": "ipython3",
   "version": "3.11.8"
  }
 },
 "nbformat": 4,
 "nbformat_minor": 5
}
