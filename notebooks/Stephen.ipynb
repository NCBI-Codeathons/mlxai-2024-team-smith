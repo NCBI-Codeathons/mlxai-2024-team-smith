{
 "cells": [
  {
   "cell_type": "markdown",
   "id": "8b4ab34b-c3b2-4815-9f6a-911527618533",
   "metadata": {},
   "source": [
    "# Libraries\n",
    "\n",
    "# Data\n",
    "\n",
    "# Exploratory Data Analyses\n",
    "\n",
    "# Transformations\n",
    "\n",
    "# Models\n"
   ]
  },
  {
   "cell_type": "code",
   "execution_count": null,
   "id": "c6d30a1b-c83c-4074-ae31-165bc9c86082",
   "metadata": {},
   "outputs": [],
   "source": [
    "import json\n",
    "import pandas as pd\n",
    "import os\n",
    "data_path = 'data/ir-lymphoma-data'\n",
    "#data_path = 'data/ireceptor/ir-covid-19-global-patterns6/'\n",
    "tsv_file = data_path + '/ireceptor-public-archive.tsv'\n",
    "#tsv_file = data_path + 'roche.tsv'\n",
    "meta_data = data_path + '/ireceptor-public-archive-metadata.json'\n",
    "#meta_data = data_path + 'roche-metadata.json'"
   ]
  },
  {
   "cell_type": "code",
   "execution_count": null,
   "id": "0bbc7493-3d0e-42e5-ae67-e77a8d66387a",
   "metadata": {},
   "outputs": [],
   "source": []
  }
 ],
 "metadata": {
  "kernelspec": {
   "display_name": "Python 3 (ipykernel)",
   "language": "python",
   "name": "python3"
  },
  "language_info": {
   "codemirror_mode": {
    "name": "ipython",
    "version": 3
   },
   "file_extension": ".py",
   "mimetype": "text/x-python",
   "name": "python",
   "nbconvert_exporter": "python",
   "pygments_lexer": "ipython3",
   "version": "3.11.8"
  }
 },
 "nbformat": 4,
 "nbformat_minor": 5
}
