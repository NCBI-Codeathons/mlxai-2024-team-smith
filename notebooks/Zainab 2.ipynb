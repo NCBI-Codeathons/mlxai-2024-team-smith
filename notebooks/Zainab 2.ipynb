{
 "cells": [
  {
   "cell_type": "markdown",
   "id": "6313af54-a67c-4ffb-beaa-330b5f2163c4",
   "metadata": {},
   "source": [
    "# CoV-AbDab Dataset Analysis: A Comparative Analysis of Antibody Specificity Against Coronavirus Variants"
   ]
  },
  {
   "cell_type": "markdown",
   "id": "f35bad2c-4930-47f0-99f9-690b52e90b52",
   "metadata": {},
   "source": [
    "## Libraries"
   ]
  },
  {
   "cell_type": "code",
   "execution_count": 3,
   "id": "435dcfb1-6e49-45c0-81c1-e83bdfe1b082",
   "metadata": {},
   "outputs": [],
   "source": [
    "import pandas as pd"
   ]
  },
  {
   "cell_type": "code",
   "execution_count": null,
   "id": "478bd81e-a166-42e6-8929-fae56bd24690",
   "metadata": {},
   "outputs": [],
   "source": []
  }
 ],
 "metadata": {
  "kernelspec": {
   "display_name": "Python 3 (ipykernel)",
   "language": "python",
   "name": "python3"
  },
  "language_info": {
   "codemirror_mode": {
    "name": "ipython",
    "version": 3
   },
   "file_extension": ".py",
   "mimetype": "text/x-python",
   "name": "python",
   "nbconvert_exporter": "python",
   "pygments_lexer": "ipython3",
   "version": "3.11.8"
  }
 },
 "nbformat": 4,
 "nbformat_minor": 5
}
