{
 "cells": [
  {
   "cell_type": "code",
   "execution_count": null,
   "id": "c944c543-66f6-4209-9a10-7e9d811004be",
   "metadata": {},
   "outputs": [],
   "source": [
    "# CoV-AbDab Dataset Analysis: A Comparative Analysis of Antibody Specificity Against Coronavirus Variants"
   ]
  },
  {
   "cell_type": "markdown",
   "id": "8586cbb7-6967-4972-9b4f-37fabfe977cc",
   "metadata": {},
   "source": [
    "# DRAFT"
   ]
  },
  {
   "cell_type": "markdown",
   "id": "69b387da-d5fe-45f4-9322-09f3b581de24",
   "metadata": {},
   "source": [
    "## Libraries"
   ]
  },
  {
   "cell_type": "code",
   "execution_count": 22,
   "id": "3ec3cd7f-2ed8-4c00-990a-0ff3c1829d15",
   "metadata": {},
   "outputs": [],
   "source": [
    "import json\n",
    "import pandas as pd\n",
    "import os\n",
    "\n",
    "#percentage neutralizing within binding and not binding for sars cov 2, sequence relationships, counts for first few columns "
   ]
  },
  {
   "cell_type": "markdown",
   "id": "385d6085-000b-40c6-bb4d-cc5a84247579",
   "metadata": {},
   "source": [
    "## Data "
   ]
  },
  {
   "cell_type": "markdown",
   "id": "aab7621b-650d-42be-a874-1637640dadc1",
   "metadata": {},
   "source": [
    "##### Loading the Datasets (Metadata, TSV, and CSV Files)"
   ]
  },
  {
   "cell_type": "code",
   "execution_count": 58,
   "id": "16362e1e-fd51-45ee-9f34-15ba8e456f90",
   "metadata": {},
   "outputs": [],
   "source": [
    "data_path = 'data/ir-lymphoma-data'\n",
    "#data_path = 'data/ireceptor/ir-covid-19-global-patterns6/'\n",
    "tsv_file = data_path + '/ireceptor-public-archive.tsv'\n",
    "#tsv_file = data_path + 'roche.tsv'\n",
    "meta_data = data_path + '/ireceptor-public-archive-metadata.json'\n",
    "#meta_data = data_path + 'roche-metadata.json'\n",
    "csv_file = 'data/covabdab_all.csv'"
   ]
  },
  {
   "cell_type": "markdown",
   "id": "f65592fd-20b9-4ccf-980b-077a81ea3929",
   "metadata": {},
   "source": [
    "###### Opening the Meta Dataset"
   ]
  },
  {
   "cell_type": "code",
   "execution_count": 81,
   "id": "90f5fc26-c6d5-4876-ae25-e4ffaaf070b5",
   "metadata": {},
   "outputs": [
    {
     "name": "stdout",
     "output_type": "stream",
     "text": [
      "Type: <class 'dict'>\n"
     ]
    },
    {
     "data": {
      "text/plain": [
       "subject.diagnosis\n",
       "Case                 47\n",
       "Control (Healthy)    29\n",
       "Name: count, dtype: int64"
      ]
     },
     "execution_count": 81,
     "metadata": {},
     "output_type": "execute_result"
    }
   ],
   "source": [
    "with open(meta_data) as json_file:\n",
    "    data = json.load(json_file)\n",
    "\n",
    "print(\"Type:\", type(data))\n",
    "\n",
    "# want the data within Repertoire\n",
    "meta_df = pd.json_normalize(data['Repertoire'])\n",
    "\n",
    "#print(meta_df)\n",
    "diag_df = meta_df[['repertoire_id', 'subject.diagnosis']].copy()\n",
    "\n",
    "diag_df['subject.diagnosis'] = diag_df['subject.diagnosis']\\\n",
    "    .apply(lambda x: ''.join([item[\"study_group_description\"] for item in x]))\n",
    "\n",
    "diag_df['subject.diagnosis'].value_counts()"
   ]
  },
  {
   "cell_type": "markdown",
   "id": "5f37ec61-5273-4be0-b522-60926e32473b",
   "metadata": {},
   "source": [
    "##### Cleaning the Data"
   ]
  },
  {
   "cell_type": "code",
   "execution_count": 62,
   "id": "5a51ba90-a994-4782-9493-4c0d2b3c998c",
   "metadata": {},
   "outputs": [],
   "source": [
    "seqs_df = pd.read_csv(tsv_file, sep='\\t')\n",
    "seqs_df.dropna(how= \"all\", axis=1, inplace=True)\n",
    "\n",
    "covabdab = pd.read_csv(csv_file, sep='\\t')\n",
    "covabdab.dropna(how= \"all\", axis=1, inplace=True)\n",
    "\n",
    "meta_df = pd.read_"
   ]
  },
  {
   "cell_type": "markdown",
   "id": "b40eae30-b706-4bec-816b-1ec4fcb69930",
   "metadata": {},
   "source": [
    "##### Understanding the CoV-AbDab Dataset Structure"
   ]
  },
  {
   "cell_type": "code",
   "execution_count": 82,
   "id": "11bb5199-8ec8-4fd3-aa18-ac6e52031d36",
   "metadata": {},
   "outputs": [
    {
     "name": "stdout",
     "output_type": "stream",
     "text": [
      "  Name,\"Ab or Nb\",\"Binds to\",\"Doesn't Bind to\",\"Neutralising Vs\",\"Not Neutralising Vs\",\"Protein + Epitope\",\"Origin\",\"VHorVHH\",\"VL\",\"Heavy V Gene\",\"Heavy J Gene\",\"Light V Gene\",\"Light J Gene\",\"CDRH3\",\"CDRL3\",\"Structures\",\"ABB Homology Model (if no structure)\",\"Sources\",\"Date Added\",\"Last Updated\",\"Update Description\",\"Notes/Following Up?\"\n",
      "0  002-S21F2,\"Ab\",\"SARS-CoV2_WT;SARS-CoV2_Alpha;S...                                                                                                                                                                                                                                                                                               \n",
      "1  0304-2F8,\"Ab\",\"SARS-CoV2_WT (weak)\",\"\",\"\",\"SAR...                                                                                                                                                                                                                                                                                               \n",
      "2  0304-3H3,\"Ab\",\"SARS-CoV2_WT\",\"\",\"SARS-CoV2_WT\"...                                                                                                                                                                                                                                                                                               \n",
      "3  0304-4A10,\"Ab\",\"SARS-CoV2_WT\",\"\",\"\",\"SARS-CoV2...                                                                                                                                                                                                                                                                                               \n",
      "4  0304-4A2,\"Ab\",\"SARS-CoV2_WT\",\"\",\"\",\"SARS-CoV2_...                                                                                                                                                                                                                                                                                               \n"
     ]
    }
   ],
   "source": [
    "print(covabdab.head())"
   ]
  },
  {
   "cell_type": "markdown",
   "id": "f473ea11-384d-41f0-b895-30599be42e60",
   "metadata": {},
   "source": [
    "##### Inspecting Common Identifiers "
   ]
  },
  {
   "cell_type": "code",
   "execution_count": 68,
   "id": "96f0725b-cda9-460e-9176-e247b2c57c0c",
   "metadata": {},
   "outputs": [
    {
     "name": "stdout",
     "output_type": "stream",
     "text": [
      "Index(['Name,\"Ab or Nb\",\"Binds to\",\"Doesn't Bind to\",\"Neutralising Vs\",\"Not Neutralising Vs\",\"Protein + Epitope\",\"Origin\",\"VHorVHH\",\"VL\",\"Heavy V Gene\",\"Heavy J Gene\",\"Light V Gene\",\"Light J Gene\",\"CDRH3\",\"CDRL3\",\"Structures\",\"ABB Homology Model (if no structure)\",\"Sources\",\"Date Added\",\"Last Updated\",\"Update Description\",\"Notes/Following Up?\"'], dtype='object')\n"
     ]
    }
   ],
   "source": [
    "#CoV-AbDab Columns \n",
    "print(covabdab.columns)"
   ]
  },
  {
   "cell_type": "code",
   "execution_count": 85,
   "id": "b8eee326-ed13-4356-8933-ece42e5bc50f",
   "metadata": {},
   "outputs": [
    {
     "name": "stdout",
     "output_type": "stream",
     "text": [
      "Index(['repertoire id', 'repertoire name', 'repertoire description', 'sample',\n",
      "       'data processing', 'organism', 'ir sra run id', 'ir sequence count',\n",
      "       'ir fasta file name', 'ir germline database', 'ir library source',\n",
      "       'ir max age', 'ir min age', 'ir rearrangement file name',\n",
      "       'ir rearrangement number', 'ir rearrangement tool', 'ir record number',\n",
      "       'ir curator count', 'ir ancillary rearrangement file name',\n",
      "       'ir cell storage', '﻿ir record number', 'ir annotation set metadata id',\n",
      "       'ir updated at', 'ir v1-3 collection time point relative',\n",
      "       'ir-v1-3-template amount', 'study.study id', 'study.study title',\n",
      "       'study.study type.label', 'study.study type.id',\n",
      "       'study.study description', 'study.inclusion exclusion criteria',\n",
      "       'study.grants', 'study.study contact', 'study.collected by',\n",
      "       'study.lab name', 'study.lab address', 'study.submitted by',\n",
      "       'study.pub ids', 'study.keywords study', 'study.adc publish date',\n",
      "       'study.adc update date', 'subject.subject id', 'subject.synthetic',\n",
      "       'subject.species.label', 'subject.species.id', 'subject.sex',\n",
      "       'subject.age min', 'subject.age max', 'subject.age unit.label',\n",
      "       'subject.age unit.id', 'subject.age event', 'subject.age',\n",
      "       'subject.ancestry population', 'subject.ethnicity', 'subject.race',\n",
      "       'subject.strain name', 'subject.linked subjects', 'subject.link type',\n",
      "       'subject.diagnosis',\n",
      "       'subject.genotype.receptor genotype set.receptor genotype set id',\n",
      "       'subject.genotype.receptor genotype set.genotype class list',\n",
      "       'subject.genotype.mhc genotype set.mhc genotype set id',\n",
      "       'subject.genotype.mhc genotype set.mhc genotype class list',\n",
      "       'subject.genotype.mhc genotype set.mhc genotype list'],\n",
      "      dtype='object')\n"
     ]
    }
   ],
   "source": [
    "#MetaData Columns \n",
    "meta_df.columns = [col.replace('_', ' ') for col in meta_df.columns]\n",
    "print(meta_df.columns)"
   ]
  },
  {
   "cell_type": "code",
   "execution_count": 91,
   "id": "49d469c0-19af-4c05-833b-65594b8d2ea8",
   "metadata": {},
   "outputs": [
    {
     "name": "stdout",
     "output_type": "stream",
     "text": [
      "Common columns: set()\n"
     ]
    }
   ],
   "source": [
    "# Comparing the column names between the datasets\n",
    "\n",
    "common_columns = set(meta_df.columns).intersection(set(covabdab.columns))\n",
    "print(\"Common columns:\", common_columns)"
   ]
  },
  {
   "cell_type": "code",
   "execution_count": 87,
   "id": "d920e8b8-1019-498f-b965-0cb1446714d2",
   "metadata": {},
   "outputs": [
    {
     "name": "stdout",
     "output_type": "stream",
     "text": [
      "Unique to covabdab: {'Name,\"Ab or Nb\",\"Binds to\",\"Doesn\\'t Bind to\",\"Neutralising Vs\",\"Not Neutralising Vs\",\"Protein + Epitope\",\"Origin\",\"VHorVHH\",\"VL\",\"Heavy V Gene\",\"Heavy J Gene\",\"Light V Gene\",\"Light J Gene\",\"CDRH3\",\"CDRL3\",\"Structures\",\"ABB Homology Model (if no structure)\",\"Sources\",\"Date Added\",\"Last Updated\",\"Update Description\",\"Notes/Following Up?\"'}\n"
     ]
    }
   ],
   "source": [
    "# Looking at the CoV-AbDab Unique Identifiers \n",
    "\n",
    "unique_to_covabdab = set(covabdab.columns) - set(meta_df.columns)\n",
    "print(\"Unique to covabdab:\", unique_to_covabdab)"
   ]
  },
  {
   "cell_type": "code",
   "execution_count": 90,
   "id": "b3a24995-6f61-4461-81ff-0bf4ff19b77a",
   "metadata": {},
   "outputs": [],
   "source": [
    "# Looking at the MetaData Unique Identifiers "
   ]
  },
  {
   "cell_type": "code",
   "execution_count": 89,
   "id": "ee59a099-af30-4950-b8e0-ff77e1986d06",
   "metadata": {},
   "outputs": [
    {
     "name": "stdout",
     "output_type": "stream",
     "text": [
      "Unique to meta_df: {'ir rearrangement number', 'study.adc publish date', 'subject.diagnosis', 'study.lab name', 'ir fasta file name', 'repertoire description', 'study.study contact', 'ir v1-3 collection time point relative', 'study.inclusion exclusion criteria', 'subject.strain name', 'subject.synthetic', 'study.grants', 'organism', 'study.pub ids', 'subject.genotype.receptor genotype set.genotype class list', 'subject.sex', 'subject.race', 'subject.age max', 'ir max age', 'ir sequence count', 'subject.age min', 'subject.genotype.receptor genotype set.receptor genotype set id', 'ir library source', 'subject.genotype.mhc genotype set.mhc genotype list', 'ir-v1-3-template amount', 'subject.age unit.label', 'ir ancillary rearrangement file name', 'ir germline database', 'subject.species.id', 'subject.age unit.id', 'study.submitted by', 'subject.genotype.mhc genotype set.mhc genotype class list', 'sample', 'study.collected by', 'ir updated at', 'subject.species.label', 'study.study title', 'study.study type.label', '\\ufeffir record number', 'study.keywords study', 'study.adc update date', 'ir sra run id', 'study.study type.id', 'subject.link type', 'subject.subject id', 'ir record number', 'repertoire name', 'subject.age', 'study.study id', 'subject.genotype.mhc genotype set.mhc genotype set id', 'study.study description', 'study.lab address', 'repertoire id', 'ir rearrangement tool', 'subject.ethnicity', 'data processing', 'ir annotation set metadata id', 'subject.ancestry population', 'subject.age event', 'ir rearrangement file name', 'ir curator count', 'ir min age', 'ir cell storage', 'subject.linked subjects'}\n"
     ]
    }
   ],
   "source": [
    "unique_to_meta = set(meta_df.columns) - set(covabdab.columns)\n",
    "print(\"Unique to meta_df:\", unique_to_meta)"
   ]
  },
  {
   "cell_type": "markdown",
   "id": "e43cb169-ebb1-4b67-a84d-b3c44ea4e2b3",
   "metadata": {},
   "source": [
    "## Transformations "
   ]
  },
  {
   "cell_type": "code",
   "execution_count": null,
   "id": "e8d77228-19e5-4c18-8b9b-a4e89fdc0a92",
   "metadata": {},
   "outputs": [],
   "source": []
  },
  {
   "cell_type": "markdown",
   "id": "ee103a67-8054-4882-8777-db8e4081986c",
   "metadata": {},
   "source": [
    "## Models "
   ]
  }
 ],
 "metadata": {
  "kernelspec": {
   "display_name": "Python 3 (ipykernel)",
   "language": "python",
   "name": "python3"
  },
  "language_info": {
   "codemirror_mode": {
    "name": "ipython",
    "version": 3
   },
   "file_extension": ".py",
   "mimetype": "text/x-python",
   "name": "python",
   "nbconvert_exporter": "python",
   "pygments_lexer": "ipython3",
   "version": "3.11.8"
  }
 },
 "nbformat": 4,
 "nbformat_minor": 5
}
